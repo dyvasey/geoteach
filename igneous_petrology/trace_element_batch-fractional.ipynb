{
 "cells": [
  {
   "cell_type": "markdown",
   "id": "34d25594",
   "metadata": {},
   "source": [
    "## Trace Elements in Igneous Systems - Batch and Fractional Melting/Crystallization ##\n",
    "This is designed as a way of quickly visualizing relationships between the concentration of a trace element in a solid versus a melt as a function of the fraction of melt in the system. This is done using both batch and fractional melting/crystallization models. This requires no coding, just running the cells below. The following definitions are key:\n",
    "\n",
    "### Definitions ###\n",
    "$F$ = fraction of melt in the system (from 1 for entirely liquid to 0 for entirely crystalline)\n",
    "\n",
    "$D_i$ = distribution coefficient for element i (concentration in mineral)/(concentration in melt)\n",
    "\n",
    "$C_L$ = concentration of an element in the liquid\n",
    "\n",
    "$C_S$ = concentration of an element in the solid\n",
    "\n",
    "$C_0$ = concentration of an element in the total system (e.g., is original concentration in the solid if we consider partial melting of a rock, or is original concentration in the liquid if we consider crystallization of a magma).\n",
    "<br>\n",
    "<br>\n",
    "\n",
    "\n",
    "_Run the cell below to start; a number should appear if it's working._\n"
   ]
  },
  {
   "cell_type": "code",
   "execution_count": null,
   "id": "33a950fc",
   "metadata": {},
   "outputs": [],
   "source": [
    "import numpy as np\n",
    "import matplotlib.pyplot as plt"
   ]
  },
  {
   "cell_type": "markdown",
   "id": "ebc40942",
   "metadata": {},
   "source": [
    "### Batch Melting/Crystallization Equation ###\n",
    "$C_L/C_0 = 1/(F+D-FD)$\n",
    "\n",
    "_Run the cell below to set up the batch melting/crystallization function and initiate a blank figure. Re-run to reset the figure._"
   ]
  },
  {
   "cell_type": "code",
   "execution_count": null,
   "id": "1d38c47b",
   "metadata": {},
   "outputs": [],
   "source": [
    "# Function for the batch melting equation\n",
    "def batch(F,D):\n",
    "    CL_C0 = 1/(F+D-F*D)\n",
    "    return (CL_C0)\n",
    "\n",
    "fig, axs = plt.subplots(1,2)\n",
    "plt.close()"
   ]
  },
  {
   "cell_type": "markdown",
   "id": "ab62df52",
   "metadata": {},
   "source": [
    "_Run the cell below to plot $C_L/C_0$ vs. $F$ for a given value of $D$_"
   ]
  },
  {
   "cell_type": "code",
   "execution_count": null,
   "id": "ede826af",
   "metadata": {},
   "outputs": [],
   "source": [
    "F = np.arange(0,1.01,0.05)\n",
    "D = float(input('D (distribution coefficient): '))\n",
    "C = batch(F,D)\n",
    "for ax in axs:        \n",
    "    ax.plot(F,C,label=D)\n",
    "    ax.hlines(1,-1,2,color='black',linestyles='dashed')\n",
    "    ax.set_xlim(0,1)\n",
    "    ax.set_xlabel('$F$ (fraction of melt)')\n",
    "    ax.set_ylabel('$C_L/C_0$')\n",
    "\n",
    "axs[0].set_ylim(0,20)\n",
    "axs[1].set_ylim(0,2)\n",
    "axs[0].legend(title='D')\n",
    "plt.tight_layout()\n",
    "fig"
   ]
  },
  {
   "cell_type": "markdown",
   "id": "15161ba8",
   "metadata": {},
   "source": [
    "### Fractional (Rayleigh) Melting/Crystallization Equation ###\n",
    "$C_L/C_0 = F^{(D-1)}$\n",
    "\n",
    "_Run the cell below to set up the batch melting/crystallization function and initiate a blank figure. Re-run to reset the figure._"
   ]
  },
  {
   "cell_type": "code",
   "execution_count": null,
   "id": "12407a6c",
   "metadata": {},
   "outputs": [],
   "source": [
    "def frac(F,D):\n",
    "    CL_C0 = F**(D-1)\n",
    "    return(CL_C0)\n",
    "\n",
    "fig2 = plt.figure()\n",
    "ax2 = fig2.add_subplot(111)\n",
    "plt.close()"
   ]
  },
  {
   "cell_type": "markdown",
   "id": "7ec21f1a",
   "metadata": {},
   "source": [
    "_Run the cell below to plot $C_L/C_0$ vs. $F$ for a given value of $D$_"
   ]
  },
  {
   "cell_type": "code",
   "execution_count": null,
   "id": "eff784aa",
   "metadata": {},
   "outputs": [],
   "source": [
    "F = np.arange(1,0,-0.01)\n",
    "D = float(input('D (distribution coefficient): '))\n",
    "C = frac(F,D)\n",
    "\n",
    "ax2.plot(F,C,label=D)\n",
    "ax2.hlines(1,-1,2,color='black',linestyles='dashed')\n",
    "ax2.set_xlim(0,1)\n",
    "ax2.legend()\n",
    "plt.tight_layout()\n",
    "fig2"
   ]
  },
  {
   "cell_type": "code",
   "execution_count": null,
   "id": "41827be6",
   "metadata": {},
   "outputs": [],
   "source": []
  }
 ],
 "metadata": {
  "kernelspec": {
   "display_name": "Python 3",
   "language": "python",
   "name": "python3"
  },
  "language_info": {
   "codemirror_mode": {
    "name": "ipython",
    "version": 3
   },
   "file_extension": ".py",
   "mimetype": "text/x-python",
   "name": "python",
   "nbconvert_exporter": "python",
   "pygments_lexer": "ipython3",
   "version": "3.8.8"
  }
 },
 "nbformat": 4,
 "nbformat_minor": 5
}
