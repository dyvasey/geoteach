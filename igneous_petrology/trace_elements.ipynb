{
 "cells": [
  {
   "cell_type": "code",
   "execution_count": null,
   "id": "68b3dfcf",
   "metadata": {},
   "outputs": [],
   "source": [
    "import numpy as np\n",
    "import matplotlib.pyplot as plt"
   ]
  },
  {
   "cell_type": "markdown",
   "id": "a543eea5",
   "metadata": {},
   "source": [
    "### Definitions ###\n",
    "$F$ = fraction of melt in the system (from 1 for entirely liquid to 0 for entirely crystalline)\n",
    "\n",
    "$D_i$ = distribution coefficient for element i (concentration in mineral)/(concentration in melt)\n",
    "\n",
    "$C_L$ = concentration of an element in the liquid\n",
    "\n",
    "$C_S$ = concentration of an element in the solid\n",
    "\n",
    "$C_0$ = concentration of an element in the total system (e.g., is original concentration in the solid if we consider partial melting of a rock, or is original concentration in the liquid if we consider crystallization of a magma)\n",
    "\n",
    "### Batch Melting Equation ###\n",
    "$C_L/C_0 = 1/(F+D-FD)$"
   ]
  },
  {
   "cell_type": "code",
   "execution_count": null,
   "id": "aaf5545e",
   "metadata": {},
   "outputs": [],
   "source": [
    "# Function for the batch melting equation\n",
    "def batch_melt(F,D):\n",
    "    CL_C0 = 1/(F+D-F*D)\n",
    "    return (CL_C0)"
   ]
  },
  {
   "cell_type": "markdown",
   "id": "dc17ea2a",
   "metadata": {},
   "source": [
    "Solve this equation for:\n",
    "* F ranging from 0 to 1 in steps of 0.05\n",
    "* D values of 0.05, 0.06, 0.1, 0.5, 1, 2 and 10\n"
   ]
  },
  {
   "cell_type": "code",
   "execution_count": null,
   "id": "9deba58d",
   "metadata": {},
   "outputs": [],
   "source": [
    "F = np.arange(0,1.01,0.05)\n",
    "D = np.array([0.05,0.06,0.1,0.5,1,2,10])\n",
    "print('F Values: ',F)\n",
    "print('D Values: ',D)"
   ]
  },
  {
   "cell_type": "markdown",
   "id": "0eecabb7",
   "metadata": {},
   "source": [
    "Make two graphs, both plotting $C_L/C_0$ versus $F$. Put curves for all values of $D$ on each plot. Set the y-axis for one plot to range from 0 to 20, and set the other to range from 0 to 2."
   ]
  },
  {
   "cell_type": "code",
   "execution_count": null,
   "id": "63325082",
   "metadata": {},
   "outputs": [],
   "source": [
    "fig, axs = plt.subplots(1,2)\n",
    "\n",
    "for ax in axs:\n",
    "    for dist in D:\n",
    "        C = batch_melt(F,dist)\n",
    "        ax.plot(F,C,label=dist)\n",
    "        ax.set_xlabel('F (fraction of melt)')\n",
    "        ax.set_ylabel('$C_L/C_0$')\n",
    "\n",
    "axs[0].set_ylim(0,20)\n",
    "axs[1].set_ylim(0,2)\n",
    "axs[0].legend(title='D')\n",
    "plt.tight_layout()"
   ]
  },
  {
   "cell_type": "markdown",
   "id": "d2995ce4",
   "metadata": {},
   "source": [
    "### Fractional (Rayleigh) Crystallization Equation ###\n",
    "$C_L/C_0 = F^{(D-1)}$"
   ]
  },
  {
   "cell_type": "code",
   "execution_count": null,
   "id": "ec738b47",
   "metadata": {},
   "outputs": [],
   "source": [
    "def frac_cryst(F,D):\n",
    "    CL_C0 = F**(D-1)\n",
    "    return(CL_C0)"
   ]
  },
  {
   "cell_type": "markdown",
   "id": "9ee5d608",
   "metadata": {},
   "source": [
    "We want to experiment with different starting conditions for our magma. These initial variables and their values are:\n",
    "* D value ($C_i^{mineral}/C_i^{liquid}$) = 0.1\n",
    "* starting concentration ($C_i^{0} liquid$) = 0.01\n",
    "* starting liquid weight = 100\n",
    "* amount crystallized each step\t= 1\n"
   ]
  },
  {
   "cell_type": "code",
   "execution_count": null,
   "id": "0c43917d",
   "metadata": {},
   "outputs": [],
   "source": [
    "D = 0.1\n",
    "C_0_liq = 0.01\n",
    "initial_weight = 100\n",
    "cryst_step = 1"
   ]
  },
  {
   "cell_type": "markdown",
   "id": "e6ef1d6b",
   "metadata": {},
   "source": [
    "Track F"
   ]
  },
  {
   "cell_type": "code",
   "execution_count": null,
   "id": "b19b70ae",
   "metadata": {},
   "outputs": [],
   "source": [
    "step = cryst_step/initial_weight\n",
    "F = np.round_(np.arange(1,0,-step),2)\n",
    "print(F)"
   ]
  },
  {
   "cell_type": "markdown",
   "id": "ddc81ab0",
   "metadata": {},
   "source": [
    "Get $C_L/C_0$ and plot"
   ]
  },
  {
   "cell_type": "code",
   "execution_count": null,
   "id": "fb833e9e",
   "metadata": {},
   "outputs": [],
   "source": [
    "CL_C0 = frac_cryst(F,D)\n",
    "print(CL_C0)"
   ]
  },
  {
   "cell_type": "code",
   "execution_count": null,
   "id": "5564875b",
   "metadata": {},
   "outputs": [],
   "source": [
    "fig, ax = plt.subplots(1)\n",
    "\n",
    "ax.plot(F,CL_C0)\n",
    "ax.set_xlabel('F (fraction of melt)')\n",
    "ax.set_ylabel('$C_L/C_0$')\n",
    "plt.show()"
   ]
  },
  {
   "cell_type": "code",
   "execution_count": null,
   "id": "38f1f4fd",
   "metadata": {},
   "outputs": [],
   "source": []
  }
 ],
 "metadata": {
  "kernelspec": {
   "display_name": "Python 3",
   "language": "python",
   "name": "python3"
  },
  "language_info": {
   "codemirror_mode": {
    "name": "ipython",
    "version": 3
   },
   "file_extension": ".py",
   "mimetype": "text/x-python",
   "name": "python",
   "nbconvert_exporter": "python",
   "pygments_lexer": "ipython3",
   "version": "3.8.8"
  }
 },
 "nbformat": 4,
 "nbformat_minor": 5
}
