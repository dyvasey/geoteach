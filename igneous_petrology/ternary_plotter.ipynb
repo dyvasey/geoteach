{
 "cells": [
  {
   "cell_type": "markdown",
   "metadata": {},
   "source": [
    "## Ternary Diagram Plotter ##\n",
    "This is designed as a way of quickly plotting data on a ternary diagarm, either for use with phase diagrams or classification diagrams. This allows you to input values and saves the resulting plot as a .jpg file for additional annotation. This notebook requires no coding, only running cells using the run button above.\n",
    "\n",
    "__Note that this diagram is totally blank - you will need to annotate it with the appropriate fields and vertex labels before you can use it as a figure.__\n",
    "\n",
    "To start, run the cell below. Note that running this cell will have some output because it checks to see if you have mpltern, a ternary plotting package, installed and installs it if you do not."
   ]
  },
  {
   "cell_type": "code",
   "execution_count": null,
   "metadata": {},
   "outputs": [],
   "source": [
    "# mpltern is a non-standard package, so need to make sure it's installed\n",
    "%pip install mpltern\n",
    "import mpltern\n",
    "import matplotlib.pyplot as plt"
   ]
  },
  {
   "cell_type": "markdown",
   "metadata": {},
   "source": [
    "Run the cell below to set up a blank ternary plot. This will also clear your plot below."
   ]
  },
  {
   "cell_type": "code",
   "execution_count": null,
   "metadata": {},
   "outputs": [],
   "source": [
    "# Set up clean figure\n",
    "fig = plt.figure(figsize=(8,8))\n",
    "ax = fig.add_subplot(111,projection='ternary')\n",
    "plt.close()"
   ]
  },
  {
   "cell_type": "markdown",
   "metadata": {},
   "source": [
    "Run the cell below to add each of your data points. You can add as many points as you like. The graph is saved in your current directory (sidebar on JupyterHub) as ternary.jpg."
   ]
  },
  {
   "cell_type": "code",
   "execution_count": null,
   "metadata": {},
   "outputs": [],
   "source": [
    "name = input('Name: ')\n",
    "\n",
    "top = float(input('Top Value: '))\n",
    "bottom_left = float(input('Bottom Left Value: '))\n",
    "bottom_right = float(input('Bottom Right Value: '))\n",
    "\n",
    "ax.scatter(top,bottom_left,bottom_right,label=name)\n",
    "ax.legend()\n",
    "ax.grid()\n",
    "fig.savefig('ternary.jpg')\n",
    "fig"
   ]
  },
  {
   "cell_type": "code",
   "execution_count": null,
   "metadata": {},
   "outputs": [],
   "source": []
  }
 ],
 "metadata": {
  "kernelspec": {
   "display_name": "Python 3",
   "language": "python",
   "name": "python3"
  },
  "language_info": {
   "codemirror_mode": {
    "name": "ipython",
    "version": 3
   },
   "file_extension": ".py",
   "mimetype": "text/x-python",
   "name": "python",
   "nbconvert_exporter": "python",
   "pygments_lexer": "ipython3",
   "version": "3.8.8"
  }
 },
 "nbformat": 4,
 "nbformat_minor": 4
}
