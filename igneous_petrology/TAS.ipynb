{
 "cells": [
  {
   "cell_type": "markdown",
   "id": "5c468da2",
   "metadata": {},
   "source": [
    "## TAS Diagram Plotter ##\n",
    "This is a short Jupyter notebook for plotting up individual data points on a total alkali-silica (TAS) diagram after Le Bas et al., (1986) without any coding experience.\n",
    "\n",
    "Using this notebook requires no coding. You just need to be able to run the individual cells below (either with the Run button above or by pressing Shift+Enter). If you need to restart from scratch, you can do so by clicking Kernel → Restart\n",
    "\n",
    "To start, run the large cell below. Nothing should happen, but a little number should appear to the left of the cell indicating it has run."
   ]
  },
  {
   "cell_type": "code",
   "execution_count": null,
   "id": "baf812a5",
   "metadata": {},
   "outputs": [],
   "source": [
    "import matplotlib.pyplot as plt\n",
    "def TAS(SiO2,Na2O,K2O,ax=None,first=[],**plt_kwargs):\n",
    "    \"\"\"\n",
    "    Plots total alkali-silica (TAS) diagram after Le Bas et al., 1986. \n",
    "    \n",
    "    Values used for plot lines were taken from source code\n",
    "    of GCDKit (Janousek et al., 2006).\n",
    "    \n",
    "    Parameters:\n",
    "        SiO2: List of SiO2 values (wt. %)\n",
    "        Na2O: List of Na2O values (wt. %)\n",
    "        K2O: List of K2O values (wt. %)\n",
    "        ax: Axes on which to plot the diagram\n",
    "        first: Empty list by default. If empty, lines/labels will plot\n",
    "    \n",
    "    Returns:\n",
    "        ax: Axes with TAS plotted\n",
    "    \"\"\"\n",
    "    if ax is None:\n",
    "        ax = plt.gca()\n",
    "    \n",
    "    # Calculate total alkalis\n",
    "    alkalis = Na2O + K2O\n",
    "    \n",
    "    # Plot data\n",
    "    ax.scatter(SiO2,alkalis, **plt_kwargs)\n",
    "    \n",
    "    # Check if first empty to avoid repeat plotting of TAS grid/labels\n",
    "    if first == []:\n",
    "        \n",
    "        # Create lines\n",
    "        line1 = [[30,41,41,45,48.4,52.5,30],[0,0,7,9.4,11.5,14,24.15]]\n",
    "        line2 = [[41,45,45,41],[0,0,3,3]]\n",
    "        line3 = [[45,52,52,45],[0,0,5,5]]\n",
    "        line4 = [[52,57,57,52],[0,0,5.9,5]]\n",
    "        line5 = [[57,63,63,57],[0,0,7,5.9]]\n",
    "        line6 = [[63,77,69,63],[0,0,8,7]]\n",
    "        line7 = [[77,100,100,69,69],[0,0,25,25,8]]\n",
    "        line8 = [[45,52,49.4],[5,5,7.3]]\n",
    "        line9 = [[52,57,53,49.4],[5,5.9,9.3,7.3]]\n",
    "        line10 = [[57,63,57.6,53],[5.9,7,11.7,9.3]]\n",
    "        line11 = [[63,69,69,57.6],[7,8,17.73,11.7]]\n",
    "        line12 = [[41,45,45,49.4,45,41],[3,3,5,7.3,9.4,7]]\n",
    "        line13 = [[49.4,53,48.4,45],[7.3,9.3,11.5,9.4]]\n",
    "        line14 = [[53,57.6,52.5,48.4],[9.3,11.7,14,11.5]]\n",
    "        line15 = [[57.6,69,30],[11.7,17.73,24.15]]\n",
    "        lines = [line1,line2,line3,line4,line5,line6,line7,line8,line9,line10,\n",
    "                 line11,line12,line13,line14,line15]\n",
    "\n",
    "        # Create labels\n",
    "        labelsx = [43,48.5,54.8,59.9,67,75,63.5,57.8,52.95,49.1,45,49.2,53,57,\n",
    "                   43]\n",
    "        labelsy = [1.55,2.8,3,3,3,8,11,8.5,7,5.65,7,9.3,11.5,14,12]\n",
    "        labeltext = ['Picrobasalt','Basalt','Basaltic\\nAndesite','Andesite',\n",
    "                     'Dacite','Rhyolite','Trachyte/Trachydacite',\n",
    "                     'Trachy-andesite','Basaltic-\\ntrachy-andesite',\n",
    "                     'Trachy-basalt','Tephrite/\\nBasanite','Phono-tephrite',\n",
    "                     'Tephri-phonolite','Phonolite','Foidite']\n",
    "\n",
    "        #Set axes limits\n",
    "        ax.set_xlim(35,80)\n",
    "        ax.set_ylim(0,16)\n",
    "        ax.set_xlabel('$\\mathregular{SiO_2}$ (wt. %)')\n",
    "        ax.set_ylabel('$\\mathregular{Na{_2}O + K{_2}O}$ (wt. %)')\n",
    "\n",
    "        for z in range(15): # Loop through and plot TAS lines\n",
    "            ax.plot(lines[z][0],lines[z][1],'k')\n",
    "            ax.text(labelsx[z],labelsy[z],labeltext[z],color='k',\n",
    "                    ha='center',va='center',fontsize=9)\n",
    "             \n",
    "    return(ax)"
   ]
  },
  {
   "cell_type": "markdown",
   "id": "f1a6d28e",
   "metadata": {},
   "source": [
    "### Plotting ###\n",
    "Run the cell below. There will be no output, but this is setting up your blank TAS diagram. If you want to remove your data and start fresh, re-run this cell.\n",
    "\n",
    "For the GEL 105 trace elements lab, I would suggest you make 1 diagram for your samples, then a separate diagram for the Lab 3 liquid line of descent, then manually add the LLD to the image from your first diagram."
   ]
  },
  {
   "cell_type": "code",
   "execution_count": null,
   "id": "4afa6af1",
   "metadata": {},
   "outputs": [],
   "source": [
    "fig = plt.figure(figsize=(12,8))\n",
    "ax = fig.add_subplot(111)\n",
    "plt.close()"
   ]
  },
  {
   "cell_type": "markdown",
   "id": "862fcfe6",
   "metadata": {},
   "source": [
    "Run the cell below and input your sample name, $SiO_2$,$Na_2O$, and $K_2O$ values. Your sample will be added to the plot with a corresponding legend entry. Rerun the cell to add additional samples to the same plot. The plot is saved automatically as a JPG image in your current directory (i.e., in the file sidebar on the left if using JupyterLab). Note that every time you run this, that plot will be overwritten, so if you want to save a plot, be sure to rename it or download it before running this cell again."
   ]
  },
  {
   "cell_type": "code",
   "execution_count": null,
   "id": "a2a5d69e",
   "metadata": {},
   "outputs": [],
   "source": [
    "name = input('Sample Name: ')\n",
    "SiO2 = float(input('SiO2 wt. %: '))\n",
    "Na2O = float(input('Na2O wt. %: '))\n",
    "K2O = float(input('K2O wt. %: '))\n",
    "\n",
    "TAS(SiO2,Na2O,K2O,ax=ax,label=name)\n",
    "\n",
    "ax.legend()\n",
    "fig.savefig('TAS.jpg')\n",
    "fig"
   ]
  },
  {
   "cell_type": "markdown",
   "id": "d0f35148",
   "metadata": {},
   "source": []
  }
 ],
 "metadata": {
  "kernelspec": {
   "display_name": "Python 3",
   "language": "python",
   "name": "python3"
  },
  "language_info": {
   "codemirror_mode": {
    "name": "ipython",
    "version": 3
   },
   "file_extension": ".py",
   "mimetype": "text/x-python",
   "name": "python",
   "nbconvert_exporter": "python",
   "pygments_lexer": "ipython3",
   "version": "3.8.8"
  }
 },
 "nbformat": 4,
 "nbformat_minor": 5
}
