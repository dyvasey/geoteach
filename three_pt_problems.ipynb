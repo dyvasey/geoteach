{
 "cells": [
  {
   "cell_type": "code",
   "execution_count": null,
   "metadata": {},
   "outputs": [],
   "source": [
    "import numpy as np"
   ]
  },
  {
   "cell_type": "markdown",
   "metadata": {},
   "source": [
    "## Find Dip of Bed Using Two Structure Contours\n",
    "Need to draw 2 structure contours from the _same feature_ at _different elevation_.\n",
    "1. Measure map distance between the two contours (h)\n",
    "2. Determine elevation difference between the two contours (d)\n",
    "3. Use these two distances to determine angle of dip trigonometrically.\n",
    "\n",
    "<img src='dip.jpg' width='500' style=\"float:left\">"
   ]
  },
  {
   "cell_type": "code",
   "execution_count": null,
   "metadata": {},
   "outputs": [],
   "source": [
    "# Input measured map distance and contour interval\n",
    "\n",
    "h_dist = float(input(\"Horizontal Distance (m): \"))\n",
    "v_dist = float(input(\"Vertical Distance (m): \"))\n"
   ]
  },
  {
   "cell_type": "code",
   "execution_count": null,
   "metadata": {},
   "outputs": [],
   "source": [
    "# Calculate Dip\n",
    "\n",
    "dip = np.arctan2(v_dist,h_dist)\n",
    "\n",
    "dip_deg = np.degrees(dip)\n",
    "\n",
    "print(\"Dip of Feature: \",round(dip_deg,None),\"degrees\")"
   ]
  },
  {
   "cell_type": "markdown",
   "metadata": {},
   "source": [
    "## Find Thickness of Bed Using Top/Bottom Structure Contours and Dip\n",
    "Need to draw the structure contour of the _same elevation_ for the top and bottom of a bed\n",
    "1. Measure map distance between the 2 contours (h - apparent thickness)\n",
    "2. Use map distance and dip to find the true thickness (t)\n",
    "\n",
    "<img src='thick.jpg' width='500' style=\"float:left\">"
   ]
  },
  {
   "cell_type": "code",
   "execution_count": null,
   "metadata": {},
   "outputs": [],
   "source": [
    "# Input Apparent Thickness from Map\n",
    "\n",
    "app_thick = float(input(\"Apparent Map Thickness (m): \"))"
   ]
  },
  {
   "cell_type": "code",
   "execution_count": null,
   "metadata": {},
   "outputs": [],
   "source": [
    "# Calculate True Thickness\n",
    "\n",
    "thick = round(app_thick*np.sin(dip),2)\n",
    "\n",
    "print(\"Thickness of Feature: \",round(thick,None),\"m\")"
   ]
  },
  {
   "cell_type": "markdown",
   "metadata": {},
   "source": [
    "## Find Depth of Well Using Structure Contour and Dip\n",
    "Need to draw a structure contour for the bed of interest\n",
    "1. Measure map distance between the well and the contour (h)\n",
    "2. Determine elevation difference between the well and the contour (d1)\n",
    "3. Use map distance and dip to determine the elevation difference between the contour and bed beneath the well (d2)\n",
    "4. Add elevation difference between the well and the contour (d1) to the differnce between the contour and the bed beneath the well (d2) to get the full depth of the well (d)\n",
    "\n",
    "<img src='well.jpg' width='500' style=\"float:left\">"
   ]
  },
  {
   "cell_type": "code",
   "execution_count": null,
   "metadata": {},
   "outputs": [],
   "source": [
    "# Input Map Distance Between Well and Contour and Elevation of Well and Contour\n",
    "\n",
    "dist = float(input(\"Map distance between well and structure contour (m): \"))\n",
    "e_well = float(input(\"Elevation of well (m): \"))\n",
    "e_cnt = float(input(\"Elevation of structure contour (m): \"))"
   ]
  },
  {
   "cell_type": "code",
   "execution_count": null,
   "metadata": {},
   "outputs": [],
   "source": [
    "# Calculate the Depth of the Well\n",
    "\n",
    "d1 = abs(e_well-e_cnt) # Elevation difference between well and contour\n",
    "d2 = dist*np.tan(dip) # Additional distance below contour elevation for well to get to bed\n",
    "\n",
    "d = d1+d2 # Full depth of well\n",
    "\n",
    "print(\"Depth of Well: \",round(d,None),\"m\")"
   ]
  },
  {
   "cell_type": "code",
   "execution_count": null,
   "metadata": {},
   "outputs": [],
   "source": []
  }
 ],
 "metadata": {
  "kernelspec": {
   "display_name": "Python 3",
   "language": "python",
   "name": "python3"
  },
  "language_info": {
   "codemirror_mode": {
    "name": "ipython",
    "version": 3
   },
   "file_extension": ".py",
   "mimetype": "text/x-python",
   "name": "python",
   "nbconvert_exporter": "python",
   "pygments_lexer": "ipython3",
   "version": "3.8.6"
  }
 },
 "nbformat": 4,
 "nbformat_minor": 4
}
