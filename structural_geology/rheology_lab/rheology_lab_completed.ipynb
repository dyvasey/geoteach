{
 "cells": [
  {
   "cell_type": "markdown",
   "metadata": {},
   "source": [
    "# ECS 22 - Lab 5: Rheology\n",
    "\n",
    "This lab is designed to explore some of the common mathematical relationships used to relate stress to strain in rocks. These mathematical formulations are critically important because they are frequently the basis for numerical models of all kinds of Earth processes, which are increasingly common. This lab is also designed to expose you to some of the ways that coding in Python can be useful for exploring concepts in structural geology and other disciplines in the Earth Sciences"
   ]
  },
  {
   "cell_type": "markdown",
   "metadata": {},
   "source": [
    "### Python Basics\n",
    "\n",
    "Many common mathematical operations are relatively straightforward in Python. Below are some basic examples of how to assign variables, do arithmetic, and print output. Feel free to modify and run the cell to see how the output changes."
   ]
  },
  {
   "cell_type": "code",
   "execution_count": null,
   "metadata": {},
   "outputs": [],
   "source": [
    "x = 5\n",
    "y = 7\n",
    "z = x*y\n",
    "print(z)"
   ]
  },
  {
   "cell_type": "markdown",
   "metadata": {},
   "source": [
    "### Python Packages\n",
    "\n",
    "For more advanced math and plotting, we will need to import the packages `numpy` and `matplotlib` and assign them shorthands (`np` and `plt`). Run the cell below to import these packages. If there is no output, that is good! It means the imports were successful."
   ]
  },
  {
   "cell_type": "code",
   "execution_count": null,
   "metadata": {},
   "outputs": [],
   "source": [
    "import numpy as np\n",
    "import matplotlib.pyplot as plt\n",
    "from scipy.special import erf"
   ]
  },
  {
   "cell_type": "markdown",
   "metadata": {},
   "source": [
    "`numpy` lets us do mathematical operations like trig functions. the below code converts 45 degrees to radians (because numpy does trig functions in radians) and then takes the tangent of the resulting value. Try changing the value and seeing how the answer changes, or try a different trig function."
   ]
  },
  {
   "cell_type": "code",
   "execution_count": null,
   "metadata": {},
   "outputs": [],
   "source": [
    "x = np.tan(np.radians(45))\n",
    "print(x)"
   ]
  },
  {
   "cell_type": "markdown",
   "metadata": {},
   "source": [
    "`matplotlib` allows us to plot things. The below code creates a `numpy` array of angles ranging from 0 to 90 degrees, converts them to radians, and gets the tangent of each one. Then, `matplotlib` plots the angles on the x axis and the tangents on the y axis. Note that we can add comments directly to Python code by starting lines with `#`, which tells Python not to run the line as code"
   ]
  },
  {
   "cell_type": "code",
   "execution_count": null,
   "metadata": {},
   "outputs": [],
   "source": [
    "# Creates an array of values from 0 to 90\n",
    "angles = np.arange(0,90,1)\n",
    "\n",
    "# Converts angles from degrees to radians\n",
    "angles_radians = np.radians(angles)\n",
    "\n",
    "# Takes tangent of each angle\n",
    "tangents = np.tan(angles_radians)\n",
    "\n",
    "# Plots angles vs. tangents\n",
    "plt.plot(angles,tangents)\n",
    "\n",
    "# Sets x and y axes labels\n",
    "plt.xlabel('Angles (Degrees)')\n",
    "plt.ylabel('Tangents')"
   ]
  },
  {
   "cell_type": "markdown",
   "metadata": {},
   "source": [
    "### Elastic Deformation\n",
    "\n",
    "In elastic deformation, material undergoes strain (e) in response to stress ($\\sigma$), but all of the strain is recoverable (i.e., the material returns to its original shape when the stress is removed). This is often visualized using a spring, and the relationship between stress and strain is often linear:\n",
    "\n",
    "<img src='elastic.png' width='800'>\n",
    "\n",
    "This linear relationship is called __Hooke's Law__, and the factor _E_ relating stress to strain is __Young's Modulus__ or the __elastic modulus__.\n",
    "\n",
    "$\\sigma = Ee$\n",
    "\n",
    "1. Using Python code below, calculate the elastic modulus for a rock with 20% elastic elongation at 150 MPa. Note that the elastic modulus is not dimensionless."
   ]
  },
  {
   "cell_type": "code",
   "execution_count": null,
   "metadata": {},
   "outputs": [],
   "source": [
    "# Calculate elastic modulus for a rock with 20% extension at 150 MPa. Print the elastic modulus.\n",
    "\n",
    "sigma = 150 #MPa\n",
    "e = 0.2\n",
    "elastic = sigma/e\n",
    "\n",
    "print(elastic, ' MPa')"
   ]
  },
  {
   "cell_type": "markdown",
   "metadata": {},
   "source": [
    "Below is a table of elastic moduli for some common Earth materials:\n",
    "\n",
    "<img src='elastic_table.png' width=350>\n",
    "\n",
    "2. Create a `numpy` array of possible elastic moduli for gabbro in increments of 10 MPa. Make a plot of stress vs. strain showing the stress for each of these elastic moduli. The functions you need have been written below and can be used by removing the `#` and modifying the appropriate values."
   ]
  },
  {
   "cell_type": "code",
   "execution_count": null,
   "metadata": {},
   "outputs": [],
   "source": [
    "# Make an array of strains from 0% to 100%\n",
    "strains = np.arange(0,1,0.01)\n",
    "\n",
    "# Make an array of all gabbro moduli\n",
    "moduli = np.arange(50,100+1,10) # GPa\n",
    "\n",
    "# Calculate stress for each of these moduli\n",
    "for modulus in moduli:\n",
    "    stresses = strains*modulus\n",
    "    plt.plot(strains,stresses,label=str(modulus) + ' GPa')\n",
    "\n",
    "# Add labels to the axes and a legend\n",
    "plt.xlabel('Strain')\n",
    "plt.ylabel('Stress (GPa)')\n",
    "plt.legend()\n",
    "\n",
    "# Save the plot\n",
    "plt.savefig('out_moduli.jpg')"
   ]
  },
  {
   "cell_type": "markdown",
   "metadata": {},
   "source": [
    "3. What stresses are needed to cause 40% elongation in gabbro with each of these elastic modulii? For this, you can use the `np.where` function."
   ]
  },
  {
   "cell_type": "code",
   "execution_count": null,
   "metadata": {},
   "outputs": [],
   "source": [
    "for modulus in moduli:\n",
    "    stresses = strains*modulus\n",
    "    stress_40 = stresses[np.where(strains==0.4)]\n",
    "    print('Elastic Modulus: ',modulus,' GPa')\n",
    "    print('Stress at 40% elongation: ', stress_40[0],' GPa')\n",
    "    print('')"
   ]
  },
  {
   "cell_type": "markdown",
   "metadata": {},
   "source": [
    "### Viscous and Plastic Deformation\n",
    "\n",
    "Elasticity is particularly relevant in the brittle regime, where materials essentially deform elastically until they reach some critical stress that induces mechanical fracturing, faulting, and earthquakes. Below the brittle-ductile transition (~10 km), rocks tend to accumulate permanent viscous or plastic deformation without brittle failure.\n",
    "\n",
    "#### Viscous Deformation\n",
    "\n",
    "At high temperatures and million-year timescales, rocks can effectively behave like fluids (i.e., they have a viscous rheology). Some fluids are __Newtonian__, meaning that there is a linear relationship between stress and strain, depending on the __viscosity__ ($\\eta$ - resistance to flow) of the fluid:\n",
    "\n",
    "$\\sigma_s = \\eta \\dot \\gamma$\n",
    "\n",
    "$\\sigma_n = \\eta \\dot e$\n",
    "\n",
    "Note that in these formulas, $\\dot \\gamma$ is shear strain _rate_ and $\\dot e$ is elongation strain _rate_. Strain rate refers to strain over a period of time and has units of per unit time (e.g., $s^{-1}, yr^{-1}, Myr^{-1})$. Since this strain is permanent, strain will accumulate with time at the same amount of stress.\n",
    "\n",
    "This is often visualized using a dashpot, which requires a fluid (like air) to flow to be extended, and the resistance to extension is determined by the viscosity of the fluid:\n",
    "\n",
    "<img src=dashpots.jpg width=400>\n",
    "\n",
    "<img src=linear_viscous.png width=800>\n",
    "\n",
    "1. Using the Python code from the elastic deformation code above as a model, plot normal stress ($\\sigma_n$) vs. strain rate ($\\dot e$) for normal stresses up to 100 GPa for fluids with viscosities of $1 \\cdot 10^{16} Pa \\cdot s$ and $1 \\cdot 10^{20} Pa \\cdot s$ (in Python you can represent these in scientific notation as `1e16` and `1e20`). Use a log-log scale (`plt.loglog`) to visualize the results. "
   ]
  },
  {
   "cell_type": "code",
   "execution_count": null,
   "metadata": {},
   "outputs": [],
   "source": [
    "# Make array of stresses\n",
    "stresses_GPa = np.arange(0,100+1,1) # GPa\n",
    "\n",
    "# Convert to Pa\n",
    "stresses_Pa = stresses_GPa * 1e9 #Pa\n",
    "\n",
    "# Define viscosities\n",
    "visc1 = 1e16 # Pa*s\n",
    "visc2 = 1e20 # Pa*s\n",
    "\n",
    "# Calculate strain rates\n",
    "strain_rate1 = stresses_Pa/visc1\n",
    "strain_rate2 = stresses_Pa/visc2\n",
    "\n",
    "# Plot\n",
    "\n",
    "plt.plot(strain_rate1,stresses_Pa,label=visc1)\n",
    "plt.plot(strain_rate2,stresses_Pa,label=visc2)\n",
    "plt.xlabel('Strain Rate (/s)')\n",
    "plt.ylabel('Normal Stress (Pa)')\n",
    "plt.loglog()\n",
    "plt.legend()\n",
    "plt.savefig('out_newtonian.jpg')\n",
    "\n"
   ]
  },
  {
   "cell_type": "markdown",
   "metadata": {},
   "source": [
    "2. What strain rates correspond to 10 GPa for each viscosity?"
   ]
  },
  {
   "cell_type": "code",
   "execution_count": null,
   "metadata": {},
   "outputs": [],
   "source": [
    "sr_10_visc1 = strain_rate1[np.where(stresses_GPa==10)]\n",
    "sr_10_visc2 = strain_rate2[np.where(stresses_GPa==10)]\n",
    "\n",
    "print('Viscosity: ',visc1,' Pa*s')\n",
    "print('Strain rate at 10 GPa: ', float(sr_10_visc1),' /s')\n",
    "print('')\n",
    "\n",
    "print('Viscosity: ',visc2,' Pa*s')\n",
    "print('Strain rate at 10 GPa: ', float(sr_10_visc2),' /s')\n",
    "print('')"
   ]
  },
  {
   "cell_type": "markdown",
   "metadata": {},
   "source": [
    "#### Plastic Deformation\n",
    "\n",
    "In purely viscous deformation, fluids will undergo strain under any deviatoric stress conditions. This is the not the case for most rocks, which will not undergo permanent deformation until stresses exceed some __yield stress__, above which strain starts to accumulate. This is visualized by trying to slide a block along some surface with frictional resistance.\n",
    "\n",
    "<img src='plastic.png' width=800>\n",
    "\n",
    "In a perfectly plastic material, strain accumulates at a constant stress. This doesn't make for very interesting math. This is also rarely the case in flowing rocks, which instead are often better approximated by a viscoplastic rheology.\n",
    "\n",
    "### Viscoplastic Deformation\n",
    "\n",
    "Rocks below the brittle-plastic (or brittle-ductile) transition are probably best described by viscoplastic deformation, in which material deforms viscously once (i.e., as a function of stress and viscosity) once some critical yield stress is reached:\n",
    "\n",
    "<img src='viscoplastic.png' width=800>"
   ]
  },
  {
   "cell_type": "markdown",
   "metadata": {},
   "source": [
    "To quantify viscoplastic deformation, we first need to look more closely at viscosity, which is highly dependent on a number of variables, including the properties of the material being deformed (e.g., activation energy), the temperature, and the gas constant. Here is one simplified form of an equation for viscosity:\n",
    "\n",
    "$\\eta = A_o\\exp(E/(R T))$\n",
    "\n",
    "Here, $A_o$ is a viscous prefactor and E is activation energy, both of which are constant for particular materials. T is temperature, and R is the gas constant (8.31451 $J/K \\cdot mol$).\n",
    "\n",
    "Using this particular formulation of viscosity, the relationship between the plastic yield stress ($\\sigma$) and strain rate ($\\dot e$) is:\n",
    "\n",
    "$\\sigma = 2 \\eta \\dot e$\n",
    "\n",
    "3. Calculate the viscoplastic yield stress for olivine over a temperature range from 273-1673 K and plot temperature (y-axis) against yield stress (x-axis). Use the following values:\n",
    "\n",
    "Viscous Prefactor: $15555555.55$\n",
    "\n",
    "Activation Energy: $335 \\cdot 10^{3} \\frac{J}{mol \\cdot K}$\n",
    "\n",
    "Strain Rate: $1 \\cdot 10^{-15} s^{-1}$"
   ]
  },
  {
   "cell_type": "code",
   "execution_count": null,
   "metadata": {},
   "outputs": [],
   "source": [
    "# Define constants\n",
    "Ao = 15555555.55 \n",
    "E = 335e3 # J/mol*K\n",
    "strain_rate = 1e-15 # /s\n",
    "R = 8.31451 # J/mol*K\n",
    "\n",
    "# Make temperature array\n",
    "T = np.arange(273,1673+1,10) # K\n",
    "\n",
    "# Calculate viscosities\n",
    "eta = Ao * np.exp(E/(R*T)) # Pa*s\n",
    "\n",
    "# Calculate yield stress\n",
    "yield_stress = 2* eta * strain_rate # Pa\n",
    "\n",
    "#Plot\n",
    "plt.plot(yield_stress/1e6, T)\n",
    "plt.gca().invert_yaxis()\n",
    "plt.xscale('log')\n",
    "plt.xlabel('Yield Stress (MPa)')\n",
    "plt.ylabel('Temperature (K)')\n",
    "plt.savefig('out_viscoplastic.jpg')"
   ]
  },
  {
   "cell_type": "markdown",
   "metadata": {},
   "source": [
    "You may notice that at low temperatures, olivine will require enormous stresses (up to $~10^{50} MPa$) to deform viscoplastically, but obviously at these temperatures rocks will undergo brittle fracture at much lower stress.\n",
    "\n",
    "If we want to get some estimate of the overall strength of the lithosphere, we can combine the viscoplastic rheology above for the deeper parts of the lithosphere with an estimate of brittle strength using Byerlee's Law:\n",
    "\n",
    "$\\sigma_s = 0.85\\sigma_n$ when $\\sigma_n < 200$ MPa<br>\n",
    "$\\sigma_s = 60 + 0.6\\sigma_n$, when $\\sigma_n > 200$ MPa<br>\n",
    "\n",
    "For our purposes, we will use lithostatic stress (i.e., pressure) to approximate $\\sigma_n$, and $\\sigma_s$ is the critical shear stress roughly equivalent to the plastic yield stress we are using for viscoplasticity.\n",
    "\n",
    "4. Using Byerlee's Law, calculate the critical stress of the lithosphere for depths ranging from 0 to 150 km. Plot depth vs critical stress."
   ]
  },
  {
   "cell_type": "code",
   "execution_count": null,
   "metadata": {},
   "outputs": [],
   "source": [
    "# Calculate pressure with depth\n",
    "depths = np.arange(0,150000,1000) # m\n",
    "density = 3300 # kg*m^-3\n",
    "g = 9.81 # m*s^-2\n",
    "\n",
    "sigma_n = depths*density*g # Pa\n",
    "\n",
    "# Use np.where to determine where stress <200 MPa and >200 MPa\n",
    "under = np.where(sigma_n<=200e6)\n",
    "over = np.where(sigma_n>200e6)\n",
    "\n",
    "# Calculate <200 MPa critical stresses\n",
    "crit_stress1 = sigma_n[under]*0.85 # Pa\n",
    "\n",
    "# Calculate >200 MPa\n",
    "crit_stress2 = 60e6 + sigma_n[over]*0.6 # Pa\n",
    "\n",
    "# Combine\n",
    "crit_stress_combined = np.concatenate([crit_stress1,crit_stress2]) # Pa\n",
    "\n",
    "# Plot as MPa vs km\n",
    "plt.plot(crit_stress_combined/1e6,depths/1000)\n",
    "plt.gca().invert_yaxis()\n",
    "plt.xlabel('Critical Stress (MPa)')\n",
    "plt.ylabel('Depth (km)')\n",
    "plt.savefig('out_byerlee.jpg')\n"
   ]
  },
  {
   "cell_type": "markdown",
   "metadata": {},
   "source": [
    "To fully combine these two rheologies, we need to establish a relationship of temperature to depth for our viscoplastic component. I've done this for you below, just run the cell:"
   ]
  },
  {
   "cell_type": "code",
   "execution_count": null,
   "metadata": {},
   "outputs": [],
   "source": [
    "# Define a temperature profile for the lithosphere (half-space cooling model)\n",
    "kappa = 1e-6  # m^2/s, diffusivity\n",
    "Ts = 273      # K, surface temperature\n",
    "Tm = 1673     # K, mantle temperature\n",
    "\n",
    "sec2yr = 3600*24*365   # s/yr\n",
    "age_sec = 80e6*sec2yr   # s, age of the lithosphere in seconds\n",
    "\n",
    "# Calculate the temperature profile\n",
    "T_withdepth = Ts + (Tm - Ts)*erf(depths/(2*np.sqrt(kappa*age_sec))) # K"
   ]
  },
  {
   "cell_type": "markdown",
   "metadata": {},
   "source": [
    "5. Recalculate viscosities using this new temperature profile, then plot stress vs. depth for both brittle and viscoplastic deformation"
   ]
  },
  {
   "cell_type": "code",
   "execution_count": null,
   "metadata": {},
   "outputs": [],
   "source": [
    "# Calculate viscosities\n",
    "eta = Ao * np.exp(E/(R*T_withdepth))\n",
    "\n",
    "# Calculate yield stress\n",
    "yield_stress = 2* eta * strain_rate\n",
    "\n",
    "# Plot\n",
    "plt.plot(yield_stress/1e6,depths/1000)\n",
    "plt.plot(crit_stress_combined/1e6,depths/1000)\n",
    "plt.gca().invert_yaxis()\n",
    "plt.xlabel('Strength (MPa)')\n",
    "plt.ylabel('Depth (km)')\n",
    "plt.xlim(0,1250)\n",
    "plt.savefig('out_tree1.jpg')"
   ]
  },
  {
   "cell_type": "markdown",
   "metadata": {},
   "source": [
    "Note that the critical shear stress defined by Byerlee's law is much lower than the viscoplastic yield stress at lower depths, whereas the viscoplastic yield stress is lower at high depths. By combining theses curves at their minimum values, we can create a __strength profile__ showing the stress required to initiate deformation (either brittle or viscoplastic) at any given depth. Because of their shape, these are informally called \"Christmas tree diagrams.\"\n",
    "\n",
    "6. Use np.minimum to find the minimum stress value at each depth and plot the resulting strength profile. At what stress will olivine deform at 40 km depth? What about 70 km depth?"
   ]
  },
  {
   "cell_type": "code",
   "execution_count": null,
   "metadata": {},
   "outputs": [],
   "source": [
    "strength = np.minimum(crit_stress_combined,yield_stress) # Pa\n",
    "\n",
    "plt.plot(strength/1e6,depths/1000)\n",
    "plt.gca().invert_yaxis()\n",
    "plt.xlabel('Strength (MPa)')\n",
    "plt.ylabel('Depth (km)')\n",
    "plt.xlim(0,1250)\n",
    "plt.savefig('out_tree2.jpg')\n",
    "\n",
    "strength_40km = strength[np.where(depths==40e3)]\n",
    "print('Strength at 40 km: ',strength_40km[0]/1e6,' MPa')\n",
    "\n",
    "strength_70km = strength[np.where(depths==70e3)]\n",
    "print('Strength at 70 km: ',strength_70km[0]/1e6,' MPa')"
   ]
  },
  {
   "cell_type": "markdown",
   "metadata": {},
   "source": [
    "To turn in this lab, download a copy of your completed notebook (.ipynb) and the six plots you created (each starting with out_ and ending with .jpg). Turn in all 7 of these files on Canvas."
   ]
  }
 ],
 "metadata": {
  "kernelspec": {
   "display_name": "geoteach",
   "language": "python",
   "name": "python3"
  },
  "language_info": {
   "codemirror_mode": {
    "name": "ipython",
    "version": 3
   },
   "file_extension": ".py",
   "mimetype": "text/x-python",
   "name": "python",
   "nbconvert_exporter": "python",
   "pygments_lexer": "ipython3",
   "version": "3.11.6"
  },
  "orig_nbformat": 4
 },
 "nbformat": 4,
 "nbformat_minor": 2
}
