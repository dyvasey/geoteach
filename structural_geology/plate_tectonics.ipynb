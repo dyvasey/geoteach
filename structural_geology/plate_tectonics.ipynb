{
 "cells": [
  {
   "cell_type": "code",
   "execution_count": 2,
   "id": "wanted-notification",
   "metadata": {},
   "outputs": [],
   "source": [
    "import numpy as np"
   ]
  },
  {
   "cell_type": "markdown",
   "id": "internal-emergency",
   "metadata": {},
   "source": [
    "## Understanding Motion on a Sphere\n",
    "Locally, the Earth's surface is effectively flat, so we can describe movements (like plate motions) as linear velocities. In reality, the Earth's surface is spherical, so large-scale motions need to be described as rotations.\n",
    "\n",
    "We can describe the motion of a point of interest (P) on a sphere as a rotation about an axis, known as an Euler pole (E). Thus, the units for this motion are degrees/radians of rotation around the Euler pole along a circular cross-section of the Earth over a given time period, or _angular velocity_ ($\\omega$).\n",
    "\n",
    "The diagram below illustrates the geometry described above and shows how angular velocity can be described as a function of the Earth's radius (R), the linear velocity (v), and the angle between the Euler pole and a pole going through the points of interest ($\\delta$ in this diagram, $\\Theta$ in subsequent diagrams). Note that angular velocity using this equation is in units of __radians/time__: \n",
    "\n",
    "<img src='sphere.JPG' width='500' style=\"float:left\">"
   ]
  },
  {
   "cell_type": "markdown",
   "id": "personal-bumper",
   "metadata": {},
   "source": [
    "## Find Angular Velocity from Linear Velocity and Euler Pole\n",
    "First, need to use location of interest and Euler pole location to calculate angular difference ($\\Theta$) between the point and the Euler pole.\n",
    "\n",
    "Note that latitude and longitude are polar coordinates, which is where the trigonometry below comes from. In addition to the latitude (degrees N from the equator), we also need the __colatitude__ (degrees S from the north pole) for the point of interest and the Euler pole to do this calculation.\n",
    "\n",
    "<img src='euler.JPG' width='500' style=\"float:left\">"
   ]
  },
  {
   "cell_type": "code",
   "execution_count": 3,
   "id": "typical-savannah",
   "metadata": {},
   "outputs": [
    {
     "name": "stdout",
     "output_type": "stream",
     "text": [
      "Latitude (N): 42\n",
      "Longitude (E): 45\n"
     ]
    }
   ],
   "source": [
    "# Input Location of interest\n",
    "lat = np.radians(float(input(\"Latitude (N): \")))\n",
    "lon = np.radians(float(input(\"Longitude (E): \")))"
   ]
  },
  {
   "cell_type": "code",
   "execution_count": 4,
   "id": "accessible-juice",
   "metadata": {},
   "outputs": [
    {
     "name": "stdout",
     "output_type": "stream",
     "text": [
      "Euler Pole Latitude (N): 60\n",
      "Euler Pole Longitude (E): 120\n"
     ]
    }
   ],
   "source": [
    "# Input location of Euler pole\n",
    "elat = np.radians(float(input(\"Euler Pole Latitude (N): \")))\n",
    "elon = np.radians(float(input(\"Euler Pole Longitude (E): \")))"
   ]
  },
  {
   "cell_type": "code",
   "execution_count": 5,
   "id": "serious-calibration",
   "metadata": {},
   "outputs": [
    {
     "name": "stdout",
     "output_type": "stream",
     "text": [
      "Colatitude of point (degrees):  48.0\n",
      "Colatitude of Euler pole (degrees):  30.000000000000004\n"
     ]
    }
   ],
   "source": [
    "# Calculate colatitude for location and Euler pole\n",
    "colat = np.radians(90) - lat\n",
    "colat_e = np.radians(90) - elat\n",
    "\n",
    "print ('Colatitude of point (degrees): ',np.degrees(colat))\n",
    "print('Colatitude of Euler pole (degrees): ',np.degrees(colat_e))"
   ]
  },
  {
   "cell_type": "code",
   "execution_count": 6,
   "id": "spare-cannon",
   "metadata": {},
   "outputs": [
    {
     "name": "stdout",
     "output_type": "stream",
     "text": [
      "Angular Difference:  47.5\n"
     ]
    }
   ],
   "source": [
    "# Find angular difference between EP and point of interest\n",
    "ang_diff = np.arccos(\n",
    "    np.cos(colat_e)*np.cos(colat) + np.sin(colat)*np.sin(colat_e)*np.cos(lon-elon)\n",
    ")\n",
    "\n",
    "print('Angular Difference: ',round(np.degrees(ang_diff),1))"
   ]
  },
  {
   "cell_type": "markdown",
   "id": "alternative-nation",
   "metadata": {},
   "source": [
    "Now that you have the angle between the pole to the point of interest and the Euler pole, you can calculate angular velocity  ($\\omega) using the following formula. __Angular velocity is in units of radians/time__ and velocity will be units of distance/time, with the units of distance determined by the radius units:\n",
    "\n",
    "<img src='velocity.JPG' width='500' style=\"float:left\">"
   ]
  },
  {
   "cell_type": "code",
   "execution_count": 7,
   "id": "worthy-dancing",
   "metadata": {},
   "outputs": [
    {
     "name": "stdout",
     "output_type": "stream",
     "text": [
      "Linear Velocity (mm/yr or km/Myr): 40\n",
      "Radius of Planet (km): 6370\n"
     ]
    }
   ],
   "source": [
    "# Input linear velocity at point of interest and radius of planet (6370 km for Earth)\n",
    "lvel = float(input(\"Linear Velocity (mm/yr or km/Myr): \"))\n",
    "radius = float(input(\"Radius of Planet (km): \"))"
   ]
  },
  {
   "cell_type": "code",
   "execution_count": 8,
   "id": "subjective-driver",
   "metadata": {},
   "outputs": [
    {
     "name": "stdout",
     "output_type": "stream",
     "text": [
      "Angular Velocity (radians/Myr):  0.009\n",
      "Angular Velocity (degrees/Myr):  0.49\n"
     ]
    }
   ],
   "source": [
    "# Calculate angular velocity from linear velocity and angular difference\n",
    "ang_vel = lvel/(radius*np.sin(ang_diff)) # lvel is in km/Myr, so output units are radians/Myr\n",
    "\n",
    "print('Angular Velocity (radians/Myr): ',round(ang_vel,3))\n",
    "print('Angular Velocity (degrees/Myr): ',round(np.degrees(ang_vel),2))"
   ]
  },
  {
   "cell_type": "markdown",
   "id": "statewide-flooring",
   "metadata": {},
   "source": [
    "## Calculate Linear Velocity from Angular Velocity\n",
    "Here, we calculate linear velocity (v) from angular velocity ($\\omega$) using the same equation as above. __Angular velocity is in units of radians/time__: \n",
    "<img src='velocity.JPG' width='500' style=\"float:left\">"
   ]
  },
  {
   "cell_type": "code",
   "execution_count": 9,
   "id": "wanted-theory",
   "metadata": {},
   "outputs": [
    {
     "name": "stdout",
     "output_type": "stream",
     "text": [
      "Angular velocity (degrees/Myr): .7\n",
      "Angular difference (degrees): 32\n",
      "Radius of Planet (km): 4000\n"
     ]
    }
   ],
   "source": [
    "# Input angular velocity, angular difference, and radius\n",
    "avel = float(input(\"Angular velocity (degrees/Myr): \"))\n",
    "adiff = float(input(\"Angular difference (degrees): \"))\n",
    "r = float(input(\"Radius of Planet (km): \"))"
   ]
  },
  {
   "cell_type": "code",
   "execution_count": 10,
   "id": "postal-bidder",
   "metadata": {},
   "outputs": [
    {
     "name": "stdout",
     "output_type": "stream",
     "text": [
      "Linear Velocity (km/Myr or mm/yr):  25.9\n",
      "Linear Velocity (cm/yr):  2.59\n"
     ]
    }
   ],
   "source": [
    "# Calculate linear velocity\n",
    "lv = np.radians(avel)*r*np.sin(np.radians(adiff))\n",
    "\n",
    "print('Linear Velocity (km/Myr or mm/yr): ',round(lv,1))\n",
    "print('Linear Velocity (cm/yr): ',round(lv/10,2))"
   ]
  },
  {
   "cell_type": "code",
   "execution_count": null,
   "id": "underlying-lambda",
   "metadata": {},
   "outputs": [],
   "source": []
  }
 ],
 "metadata": {
  "kernelspec": {
   "display_name": "Python 3",
   "language": "python",
   "name": "python3"
  },
  "language_info": {
   "codemirror_mode": {
    "name": "ipython",
    "version": 3
   },
   "file_extension": ".py",
   "mimetype": "text/x-python",
   "name": "python",
   "nbconvert_exporter": "python",
   "pygments_lexer": "ipython3",
   "version": "3.8.8"
  }
 },
 "nbformat": 4,
 "nbformat_minor": 5
}
