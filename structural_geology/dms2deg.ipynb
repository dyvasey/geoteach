{
 "cells": [
  {
   "cell_type": "markdown",
   "id": "41b32e85",
   "metadata": {},
   "source": [
    "## Convert DMS to Decimal Degrees ##\n",
    "Latitude and longitude are generally easiest to work with when presented as decimal degrees (eg., 42.5$^\\circ$) but are frequently reported instead as degrees, minutes, and seconds (e.g., 42$^\\circ$ 30\"). This is a simple tool to convert DMS to decimal degrees. Run the cell below to do a conversion"
   ]
  },
  {
   "cell_type": "code",
   "execution_count": 3,
   "id": "d55afe10",
   "metadata": {},
   "outputs": [
    {
     "name": "stdout",
     "output_type": "stream",
     "text": [
      "Latitude Degrees: 42\n",
      "Latitude Minutes: 30\n",
      "Latitude Seconds: 2\n",
      "Longitude Degrees: 55\n",
      "Longitude Minutes: 15\n",
      "Longitude Seconds: 5\n",
      "\n",
      "Latitude (Decimal Degrees):  42.50055555555556\n",
      "Longitude (Decimal Degrees):  55.25138888888889\n"
     ]
    }
   ],
   "source": [
    "def dms2deg(latdeg,londeg,latmin,lonmin,latsec,lonsec):\n",
    "    \n",
    "    lat = (abs(latdeg) + (abs(latmin)+abs(latsec)/60)/60)\n",
    "    lon = (abs(londeg) + (abs(lonmin)+abs(lonsec)/60)/60)\n",
    "    \n",
    "    if latdeg<0:\n",
    "        lat = -lat\n",
    "    if londeg<0:\n",
    "        lon = -lon\n",
    "    return(lat,lon)\n",
    "\n",
    "latdeg = float(input('Latitude Degrees: '))\n",
    "latmin = float(input('Latitude Minutes: '))\n",
    "latsec = float(input('Latitude Seconds: '))\n",
    "londeg = float(input('Longitude Degrees: '))\n",
    "lonmin = float(input('Longitude Minutes: '))\n",
    "lonsec = float(input('Longitude Seconds: '))\n",
    "\n",
    "lat,lon = dms2deg(latdeg,londeg,latmin,lonmin,latsec,lonsec)\n",
    "print('')\n",
    "print('Latitude (Decimal Degrees): ',lat)\n",
    "print('Longitude (Decimal Degrees): ',lon)\n"
   ]
  },
  {
   "cell_type": "code",
   "execution_count": null,
   "id": "fb324eb7",
   "metadata": {},
   "outputs": [],
   "source": []
  }
 ],
 "metadata": {
  "kernelspec": {
   "display_name": "Python 3 (ipykernel)",
   "language": "python",
   "name": "python3"
  },
  "language_info": {
   "codemirror_mode": {
    "name": "ipython",
    "version": 3
   },
   "file_extension": ".py",
   "mimetype": "text/x-python",
   "name": "python",
   "nbconvert_exporter": "python",
   "pygments_lexer": "ipython3",
   "version": "3.9.7"
  }
 },
 "nbformat": 4,
 "nbformat_minor": 5
}
