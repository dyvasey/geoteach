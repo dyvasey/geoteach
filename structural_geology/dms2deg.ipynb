{
 "cells": [
  {
   "cell_type": "markdown",
   "id": "34924942",
   "metadata": {},
   "source": [
    "## Convert DMS to Decimal Degrees ##\n",
    "Latitude and longitude are generally easiest to work with when presented as decimal degrees (eg., 42.5$^\\circ$) but are frequently reported instead as degrees, minutes, and seconds (e.g., 42$^\\circ$ 30\"). This is a simple tool to convert DMS to decimal degrees. Run the cell below to do a conversion"
   ]
  },
  {
   "cell_type": "code",
   "execution_count": null,
   "id": "241b5d5d",
   "metadata": {},
   "outputs": [],
   "source": [
    "import time\n",
    "def dms2deg(latdeg,londeg,latmin,lonmin,latsec,lonsec):\n",
    "    \n",
    "    lat = (abs(latdeg) + (abs(latmin)+abs(latsec)/60)/60)\n",
    "    lon = (abs(londeg) + (abs(lonmin)+abs(lonsec)/60)/60)\n",
    "    \n",
    "    if latdeg<0:\n",
    "        lat = -lat\n",
    "    if londeg<0:\n",
    "        lon = -lon\n",
    "    return(lat,lon)\n",
    "\n",
    "print('Enter degrees, minutes, and seconds separated by spaces.')\n",
    "print('N and E are positive, W and S are negative.')\n",
    "print('')\n",
    "\n",
    "time.sleep(1)\n",
    "\n",
    "latdeg,latmin,latsec = [float(x) for x in input('Latitude (DMS): ').split()]\n",
    "londeg,lonmin,lonsec = [float(x) for x in input('Longitude (DMS): ').split()]\n",
    "\n",
    "lat,lon = dms2deg(latdeg,londeg,latmin,lonmin,latsec,lonsec)\n",
    "print('')\n",
    "print('Latitude (Decimal Degrees): ',lat)\n",
    "print('Longitude (Decimal Degrees): ',lon)\n"
   ]
  },
  {
   "cell_type": "code",
   "execution_count": null,
   "id": "2d899987",
   "metadata": {},
   "outputs": [],
   "source": []
  }
 ],
 "metadata": {
  "kernelspec": {
   "display_name": "Python 3 (ipykernel)",
   "language": "python",
   "name": "python3"
  },
  "language_info": {
   "codemirror_mode": {
    "name": "ipython",
    "version": 3
   },
   "file_extension": ".py",
   "mimetype": "text/x-python",
   "name": "python",
   "nbconvert_exporter": "python",
   "pygments_lexer": "ipython3",
   "version": "3.9.7"
  }
 },
 "nbformat": 4,
 "nbformat_minor": 5
}
