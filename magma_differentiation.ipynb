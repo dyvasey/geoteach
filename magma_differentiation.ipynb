{
 "cells": [
  {
   "cell_type": "markdown",
   "id": "national-syndrome",
   "metadata": {},
   "source": [
    "## Magma Differentiation Plotter ##\n",
    "This is meant as a virtual alternative to using jelly beans or bingo chips for the magma differentiation lab. In the lab, you start with a set number of cations (chips/jelly beans) in a magma chamber drawn on paper, and you systematically remove them as you crystallize minerals during fractionation. This notebook simulates this by showing colored bar charts to represent the cations in the magma chamber and the cations that have been taken up in crystallized minerals.\n",
    "\n",
    "Using this notebook requires no coding. You just need to be able to run the individual cells below (either with the run button above or by pressing shift+enter).\n",
    "\n",
    "To start, run the import cell below. Nothing should happen, but a little number should appear to the left of the cell indicating it has run."
   ]
  },
  {
   "cell_type": "code",
   "execution_count": 3,
   "id": "elegant-validity",
   "metadata": {},
   "outputs": [],
   "source": [
    "import numpy as np\n",
    "import matplotlib.pyplot as plt"
   ]
  },
  {
   "cell_type": "markdown",
   "id": "increasing-preparation",
   "metadata": {},
   "source": [
    "### Initial Magma Chamber ###\n",
    "Run the cell below to create an empty magma chamber to start your lab. This will also reset your magma chamber if you make a mistake will differentiating."
   ]
  },
  {
   "cell_type": "code",
   "execution_count": 5,
   "id": "developing-grove",
   "metadata": {},
   "outputs": [
    {
     "data": {
      "image/png": "[encoded data removed]",
      "text/plain": [
       "<Figure size 432x288 with 2 Axes>"
      ]
     },
     "metadata": {
      "needs_background": "light"
     },
     "output_type": "display_data"
    },
    {
     "name": "stdout",
     "output_type": "stream",
     "text": [
      "Magma Chamber\n",
      "Si :  170\n",
      "Ti :  4\n",
      "Al :  58\n",
      "Fe :  46\n",
      "Mg :  45\n",
      "Ca :  32\n",
      "Na :  17\n",
      "K :  5\n",
      "\n",
      "Crystallized\n",
      "Si :  0.0\n",
      "Ti :  0.0\n",
      "Al :  0.0\n",
      "Fe :  0.0\n",
      "Mg :  0.0\n",
      "Ca :  0.0\n",
      "Na :  0.0\n",
      "K :  0.0\n"
     ]
    }
   ],
   "source": [
    "Si = 170\n",
    "Ti = 4\n",
    "Al = 58\n",
    "Fe = 46\n",
    "Mg = 45\n",
    "Ca = 32\n",
    "Na =17\n",
    "K = 5\n",
    "\n",
    "cations = np.array([Si,Ti,Al,Fe,Mg,Ca,Na,K])\n",
    "crystallized = np.zeros(8)\n",
    "\n",
    "names = ['Si','Ti','Al','Fe','Mg','Ca','Na','K']\n",
    "\n",
    "\n",
    "testcolors = ['red','purple','pink','blue','green','orange','cyan','salmon']\n",
    "\n",
    "fig,axs = plt.subplots(1,2,sharey=True)\n",
    "\n",
    "axs[0].bar(names,cations,color=testcolors)\n",
    "axs[1].bar(names,crystallized,color=testcolors)\n",
    "\n",
    "axs[0].set_title('Magma Chamber')\n",
    "axs[1].set_title('Crystallized')\n",
    "\n",
    "plt.show()\n",
    "\n",
    "print('Magma Chamber')\n",
    "for x in range(8):\n",
    "    print(names[x],': ',cations[x])\n",
    "\n",
    "print('')    \n",
    "print('Crystallized')\n",
    "for x in range(8):\n",
    "    print(names[x],': ',crystallized[x])"
   ]
  },
  {
   "cell_type": "markdown",
   "id": "backed-wings",
   "metadata": {},
   "source": [
    "## Crystallize Minerals ##\n",
    "When you run the cell below, you will be asked how many of each cation to remove from your magma chamber to as you crystallize a set of minerals. Refer to your lab to determine how many. The output will show you how much of each cation is in your magma chamber and how much is crystallized after the differentiation. Run this cell once for each fractionation event in your lab."
   ]
  },
  {
   "cell_type": "code",
   "execution_count": null,
   "id": "pressing-yukon",
   "metadata": {},
   "outputs": [],
   "source": [
    "subtract = np.zeros(8)\n",
    "print('Enter which cations to remove from magma chamber')\n",
    "for x in range(8):\n",
    "    subtract[x] = float(input(names[x]+': '))\n",
    "\n",
    "cations = cations-subtract\n",
    "crystallized = crystallized + subtract\n",
    "\n",
    "fig,axs = plt.subplots(1,2,sharey=True)\n",
    "\n",
    "axs[0].bar(names,cations,color=testcolors)\n",
    "axs[1].bar(names,crystallized,color=testcolors)\n",
    "\n",
    "axs[0].set_title('Magma Chamber')\n",
    "axs[1].set_title('Crystallized')\n",
    "\n",
    "plt.show()\n",
    "\n",
    "print('Magma Chamber')\n",
    "for x in range(8):\n",
    "    print(names[x],': ',cations[x])\n",
    "    \n",
    "print('')\n",
    "print('Crystallized')\n",
    "for x in range(8):\n",
    "    print(names[x],': ',crystallized[x])\n"
   ]
  },
  {
   "cell_type": "markdown",
   "id": "nervous-introduction",
   "metadata": {},
   "source": [
    "Junk to be deleted"
   ]
  },
  {
   "cell_type": "code",
   "execution_count": null,
   "id": "still-congress",
   "metadata": {},
   "outputs": [],
   "source": []
  },
  {
   "cell_type": "code",
   "execution_count": null,
   "id": "modified-indiana",
   "metadata": {},
   "outputs": [],
   "source": [
    "\n",
    "\n"
   ]
  }
 ],
 "metadata": {
  "kernelspec": {
   "display_name": "Python 3",
   "language": "python",
   "name": "python3"
  },
  "language_info": {
   "codemirror_mode": {
    "name": "ipython",
    "version": 3
   },
   "file_extension": ".py",
   "mimetype": "text/x-python",
   "name": "python",
   "nbconvert_exporter": "python",
   "pygments_lexer": "ipython3",
   "version": "3.8.8"
  }
 },
 "nbformat": 4,
 "nbformat_minor": 5
}
